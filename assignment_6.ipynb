{
  "nbformat": 4,
  "nbformat_minor": 0,
  "metadata": {
    "kernelspec": {
      "display_name": "Python 3",
      "language": "python",
      "name": "python3"
    },
    "language_info": {
      "codemirror_mode": {
        "name": "ipython",
        "version": 3
      },
      "file_extension": ".py",
      "mimetype": "text/x-python",
      "name": "python",
      "nbconvert_exporter": "python",
      "pygments_lexer": "ipython3",
      "version": "3.7.3"
    },
    "colab": {
      "name": "assignment 5.ipynb",
      "provenance": []
    }
  },
  "cells": [
    {
      "cell_type": "markdown",
      "metadata": {
        "id": "QEXP7b_Qk4CY"
      },
      "source": [
        "# SURE TRUST: Assignment 5 \n",
        "\n",
        "##  Binary Classfication\n",
        "\n",
        "#### Context\n",
        "\n",
        "Patients with Liver disease have been continuously increasing because of excessive consumption of alcohol, inhale of harmful gases, intake of contaminated food, pickles and drugs. This dataset was used to evaluate prediction algorithms in an effort to reduce burden on doctors. \n",
        "\n",
        "#### Content\n",
        "\n",
        "This data set contains 416 liver patient records and 167 non liver patient records collected from North East of Andhra Pradesh, India. The \"Dataset\" column is a class label used to divide groups into liver patient (liver disease) or not (no disease). This data set contains 441 male patient records and 142 female patient records.\n",
        "\n",
        "Any patient whose age exceeded 89 is listed as being of age \"90\".\n",
        "\n",
        "Columns:\n",
        "\n",
        "    Age of the patient\n",
        "    Gender of the patient\n",
        "    Total Bilirubin\n",
        "    Direct Bilirubin\n",
        "    Alkaline Phosphotase\n",
        "    Alamine Aminotransferase\n",
        "    Aspartate Aminotransferase\n",
        "    Total Protiens\n",
        "    Albumin\n",
        "    Albumin and Globulin Ratio\n",
        "    Dataset: field used to split the data into two sets (patient with liver disease, or no disease)\n",
        "\n",
        "##### Imagine yourself as ML Engineer and you want to build a model which can predict disease properly. You need to try multiple algorithms to find which one performs better with good accuracy\n"
      ]
    },
    {
      "cell_type": "markdown",
      "metadata": {
        "id": "m0MQbcBbk4Ci"
      },
      "source": [
        "### Preprocessing\n",
        "\n",
        "    Use dummy variables\n",
        "    Standardize if needed\n",
        "    Split data into different sets(MUST)\n",
        "\n",
        "\n",
        "### Classification models you need to implement\n",
        "\n",
        "    Logistic Regression\n",
        "    Naive Bayes\n",
        "    Decision Tree\n",
        "        Plot Tree\n",
        "    Random Forest\n",
        "    SVC Support Vector Machines\n",
        "\n",
        "###### Each different model will fetch 20 marks with all preprocessing, validation steps\n",
        "    \n",
        "### Validation\n",
        "    Accuracy score\n",
        "    f1 score\n",
        "    \n",
        "### Extra and Optional\n",
        "    EDA\n",
        "    Visualizations\n"
      ]
    },
    {
      "cell_type": "markdown",
      "metadata": {
        "id": "Z6ct4Bpqk4Cj"
      },
      "source": [
        ""
      ]
    },
    {
      "cell_type": "code",
      "metadata": {
        "scrolled": false,
        "id": "82FXs3ETk4Cj"
      },
      "source": [
        "import pandas as pd\n",
        "import requests\n",
        "\n",
        "url= \"https://raw.githubusercontent.com/jagadeesh-gajula/ImportingData/master/liver_patients_data.csv\"\n",
        "text = requests.get(url).text\n",
        "file = open('data.csv','w')\n",
        "file.write(text)\n",
        "file.close()\n",
        "\n",
        "data = pd.read_csv('data.csv')"
      ],
      "execution_count": 4,
      "outputs": []
    },
    {
      "cell_type": "code",
      "metadata": {
        "scrolled": false,
        "colab": {
          "base_uri": "https://localhost:8080/",
          "height": 191
        },
        "id": "snqwT5EBk4Ck",
        "outputId": "cc5045f2-e21e-4b3c-e8d1-20ee1335b794"
      },
      "source": [
        "data.head()"
      ],
      "execution_count": 5,
      "outputs": [
        {
          "output_type": "execute_result",
          "data": {
            "text/html": [
              "<div>\n",
              "<style scoped>\n",
              "    .dataframe tbody tr th:only-of-type {\n",
              "        vertical-align: middle;\n",
              "    }\n",
              "\n",
              "    .dataframe tbody tr th {\n",
              "        vertical-align: top;\n",
              "    }\n",
              "\n",
              "    .dataframe thead th {\n",
              "        text-align: right;\n",
              "    }\n",
              "</style>\n",
              "<table border=\"1\" class=\"dataframe\">\n",
              "  <thead>\n",
              "    <tr style=\"text-align: right;\">\n",
              "      <th></th>\n",
              "      <th>Age</th>\n",
              "      <th>Gender</th>\n",
              "      <th>Total_Bilirubin</th>\n",
              "      <th>Direct_Bilirubin</th>\n",
              "      <th>Alkaline_Phosphotase</th>\n",
              "      <th>Alamine_Aminotransferase</th>\n",
              "      <th>Aspartate_Aminotransferase</th>\n",
              "      <th>Total_Protiens</th>\n",
              "      <th>Albumin</th>\n",
              "      <th>Albumin_and_Globulin_Ratio</th>\n",
              "      <th>Dataset</th>\n",
              "    </tr>\n",
              "  </thead>\n",
              "  <tbody>\n",
              "    <tr>\n",
              "      <th>0</th>\n",
              "      <td>65</td>\n",
              "      <td>Female</td>\n",
              "      <td>0.7</td>\n",
              "      <td>0.1</td>\n",
              "      <td>187</td>\n",
              "      <td>16</td>\n",
              "      <td>18</td>\n",
              "      <td>6.8</td>\n",
              "      <td>3.3</td>\n",
              "      <td>0.90</td>\n",
              "      <td>1</td>\n",
              "    </tr>\n",
              "    <tr>\n",
              "      <th>1</th>\n",
              "      <td>62</td>\n",
              "      <td>Male</td>\n",
              "      <td>10.9</td>\n",
              "      <td>5.5</td>\n",
              "      <td>699</td>\n",
              "      <td>64</td>\n",
              "      <td>100</td>\n",
              "      <td>7.5</td>\n",
              "      <td>3.2</td>\n",
              "      <td>0.74</td>\n",
              "      <td>1</td>\n",
              "    </tr>\n",
              "    <tr>\n",
              "      <th>2</th>\n",
              "      <td>62</td>\n",
              "      <td>Male</td>\n",
              "      <td>7.3</td>\n",
              "      <td>4.1</td>\n",
              "      <td>490</td>\n",
              "      <td>60</td>\n",
              "      <td>68</td>\n",
              "      <td>7.0</td>\n",
              "      <td>3.3</td>\n",
              "      <td>0.89</td>\n",
              "      <td>1</td>\n",
              "    </tr>\n",
              "    <tr>\n",
              "      <th>3</th>\n",
              "      <td>58</td>\n",
              "      <td>Male</td>\n",
              "      <td>1.0</td>\n",
              "      <td>0.4</td>\n",
              "      <td>182</td>\n",
              "      <td>14</td>\n",
              "      <td>20</td>\n",
              "      <td>6.8</td>\n",
              "      <td>3.4</td>\n",
              "      <td>1.00</td>\n",
              "      <td>1</td>\n",
              "    </tr>\n",
              "    <tr>\n",
              "      <th>4</th>\n",
              "      <td>72</td>\n",
              "      <td>Male</td>\n",
              "      <td>3.9</td>\n",
              "      <td>2.0</td>\n",
              "      <td>195</td>\n",
              "      <td>27</td>\n",
              "      <td>59</td>\n",
              "      <td>7.3</td>\n",
              "      <td>2.4</td>\n",
              "      <td>0.40</td>\n",
              "      <td>1</td>\n",
              "    </tr>\n",
              "  </tbody>\n",
              "</table>\n",
              "</div>"
            ],
            "text/plain": [
              "   Age  Gender  Total_Bilirubin  ...  Albumin  Albumin_and_Globulin_Ratio  Dataset\n",
              "0   65  Female              0.7  ...      3.3                        0.90        1\n",
              "1   62    Male             10.9  ...      3.2                        0.74        1\n",
              "2   62    Male              7.3  ...      3.3                        0.89        1\n",
              "3   58    Male              1.0  ...      3.4                        1.00        1\n",
              "4   72    Male              3.9  ...      2.4                        0.40        1\n",
              "\n",
              "[5 rows x 11 columns]"
            ]
          },
          "metadata": {
            "tags": []
          },
          "execution_count": 5
        }
      ]
    },
    {
      "cell_type": "code",
      "metadata": {
        "colab": {
          "base_uri": "https://localhost:8080/"
        },
        "id": "zw1kr9G5k4Cm",
        "outputId": "372ac888-6af6-4a5f-a813-03e0ea16dd64"
      },
      "source": [
        "data.info()"
      ],
      "execution_count": 6,
      "outputs": [
        {
          "output_type": "stream",
          "text": [
            "<class 'pandas.core.frame.DataFrame'>\n",
            "RangeIndex: 583 entries, 0 to 582\n",
            "Data columns (total 11 columns):\n",
            " #   Column                      Non-Null Count  Dtype  \n",
            "---  ------                      --------------  -----  \n",
            " 0   Age                         583 non-null    int64  \n",
            " 1   Gender                      583 non-null    object \n",
            " 2   Total_Bilirubin             583 non-null    float64\n",
            " 3   Direct_Bilirubin            583 non-null    float64\n",
            " 4   Alkaline_Phosphotase        583 non-null    int64  \n",
            " 5   Alamine_Aminotransferase    583 non-null    int64  \n",
            " 6   Aspartate_Aminotransferase  583 non-null    int64  \n",
            " 7   Total_Protiens              583 non-null    float64\n",
            " 8   Albumin                     583 non-null    float64\n",
            " 9   Albumin_and_Globulin_Ratio  579 non-null    float64\n",
            " 10  Dataset                     583 non-null    int64  \n",
            "dtypes: float64(5), int64(5), object(1)\n",
            "memory usage: 50.2+ KB\n"
          ],
          "name": "stdout"
        }
      ]
    },
    {
      "cell_type": "code",
      "metadata": {
        "colab": {
          "base_uri": "https://localhost:8080/"
        },
        "id": "2yH5p2nWk4Cm",
        "outputId": "6b2eab33-c8ef-4a78-a516-9455d1c33f53"
      },
      "source": [
        "data.isnull().sum()"
      ],
      "execution_count": 7,
      "outputs": [
        {
          "output_type": "execute_result",
          "data": {
            "text/plain": [
              "Age                           0\n",
              "Gender                        0\n",
              "Total_Bilirubin               0\n",
              "Direct_Bilirubin              0\n",
              "Alkaline_Phosphotase          0\n",
              "Alamine_Aminotransferase      0\n",
              "Aspartate_Aminotransferase    0\n",
              "Total_Protiens                0\n",
              "Albumin                       0\n",
              "Albumin_and_Globulin_Ratio    4\n",
              "Dataset                       0\n",
              "dtype: int64"
            ]
          },
          "metadata": {
            "tags": []
          },
          "execution_count": 7
        }
      ]
    },
    {
      "cell_type": "code",
      "metadata": {
        "colab": {
          "base_uri": "https://localhost:8080/"
        },
        "id": "kydKFviHk4Cn",
        "outputId": "24aaf048-ca5f-46bf-c7f9-71d1be253f51"
      },
      "source": [
        "data=data.fillna(0)\n",
        "data.isnull().sum()"
      ],
      "execution_count": 8,
      "outputs": [
        {
          "output_type": "execute_result",
          "data": {
            "text/plain": [
              "Age                           0\n",
              "Gender                        0\n",
              "Total_Bilirubin               0\n",
              "Direct_Bilirubin              0\n",
              "Alkaline_Phosphotase          0\n",
              "Alamine_Aminotransferase      0\n",
              "Aspartate_Aminotransferase    0\n",
              "Total_Protiens                0\n",
              "Albumin                       0\n",
              "Albumin_and_Globulin_Ratio    0\n",
              "Dataset                       0\n",
              "dtype: int64"
            ]
          },
          "metadata": {
            "tags": []
          },
          "execution_count": 8
        }
      ]
    },
    {
      "cell_type": "markdown",
      "metadata": {
        "id": "__cdkHzvk4Co"
      },
      "source": [
        "#### Use dummy variables"
      ]
    },
    {
      "cell_type": "code",
      "metadata": {
        "id": "QhcFcDcCk4Cp"
      },
      "source": [
        "rn=pd.get_dummies(data['Gender'],drop_first=True)\n",
        "data_rn=pd.concat([rn,data],axis=1)\n",
        "data_rn=data_rn.drop('Gender',axis=1)"
      ],
      "execution_count": 9,
      "outputs": []
    },
    {
      "cell_type": "code",
      "metadata": {
        "colab": {
          "base_uri": "https://localhost:8080/"
        },
        "id": "VJr5NYOHk4Cq",
        "outputId": "3b99ac29-8981-4461-9c0d-25d828303a85"
      },
      "source": [
        "data_rn.info()"
      ],
      "execution_count": 10,
      "outputs": [
        {
          "output_type": "stream",
          "text": [
            "<class 'pandas.core.frame.DataFrame'>\n",
            "RangeIndex: 583 entries, 0 to 582\n",
            "Data columns (total 11 columns):\n",
            " #   Column                      Non-Null Count  Dtype  \n",
            "---  ------                      --------------  -----  \n",
            " 0   Male                        583 non-null    uint8  \n",
            " 1   Age                         583 non-null    int64  \n",
            " 2   Total_Bilirubin             583 non-null    float64\n",
            " 3   Direct_Bilirubin            583 non-null    float64\n",
            " 4   Alkaline_Phosphotase        583 non-null    int64  \n",
            " 5   Alamine_Aminotransferase    583 non-null    int64  \n",
            " 6   Aspartate_Aminotransferase  583 non-null    int64  \n",
            " 7   Total_Protiens              583 non-null    float64\n",
            " 8   Albumin                     583 non-null    float64\n",
            " 9   Albumin_and_Globulin_Ratio  583 non-null    float64\n",
            " 10  Dataset                     583 non-null    int64  \n",
            "dtypes: float64(5), int64(5), uint8(1)\n",
            "memory usage: 46.2 KB\n"
          ],
          "name": "stdout"
        }
      ]
    },
    {
      "cell_type": "code",
      "metadata": {
        "id": "vR_ZA0rKk4Cr"
      },
      "source": [
        "x= data_rn.drop('Dataset',axis=1)"
      ],
      "execution_count": 15,
      "outputs": []
    },
    {
      "cell_type": "code",
      "metadata": {
        "id": "qSQ21cR8k4Cr"
      },
      "source": [
        "y=data_rn.Dataset"
      ],
      "execution_count": 16,
      "outputs": []
    },
    {
      "cell_type": "markdown",
      "metadata": {
        "id": "rcoFIWXIk4Cr"
      },
      "source": [
        "#### Split data into different sets"
      ]
    },
    {
      "cell_type": "code",
      "metadata": {
        "id": "hf9upKsjk4Cs"
      },
      "source": [
        "from sklearn.model_selection import train_test_split"
      ],
      "execution_count": 17,
      "outputs": []
    },
    {
      "cell_type": "code",
      "metadata": {
        "id": "fzFKdU4Yk4Cs"
      },
      "source": [
        "x_train,x_test,y_train,y_test = train_test_split(x,y)"
      ],
      "execution_count": 18,
      "outputs": []
    },
    {
      "cell_type": "markdown",
      "metadata": {
        "id": "JoBe_hLqk4Cs"
      },
      "source": [
        "#### Logistic Regression"
      ]
    },
    {
      "cell_type": "code",
      "metadata": {
        "id": "LCrOhRF5k4Ct"
      },
      "source": [
        "from sklearn.linear_model import LogisticRegression"
      ],
      "execution_count": 19,
      "outputs": []
    },
    {
      "cell_type": "code",
      "metadata": {
        "id": "Nk78Qy0sk4Ct"
      },
      "source": [
        "log = LogisticRegression()"
      ],
      "execution_count": 20,
      "outputs": []
    },
    {
      "cell_type": "code",
      "metadata": {
        "colab": {
          "base_uri": "https://localhost:8080/"
        },
        "id": "YnVr1UArk4Ct",
        "outputId": "9bcc48f6-8ad0-4fca-fff0-dbe28eb3d83a"
      },
      "source": [
        "log.fit(x_train,y_train)"
      ],
      "execution_count": 21,
      "outputs": [
        {
          "output_type": "stream",
          "text": [
            "/usr/local/lib/python3.7/dist-packages/sklearn/linear_model/_logistic.py:940: ConvergenceWarning: lbfgs failed to converge (status=1):\n",
            "STOP: TOTAL NO. of ITERATIONS REACHED LIMIT.\n",
            "\n",
            "Increase the number of iterations (max_iter) or scale the data as shown in:\n",
            "    https://scikit-learn.org/stable/modules/preprocessing.html\n",
            "Please also refer to the documentation for alternative solver options:\n",
            "    https://scikit-learn.org/stable/modules/linear_model.html#logistic-regression\n",
            "  extra_warning_msg=_LOGISTIC_SOLVER_CONVERGENCE_MSG)\n"
          ],
          "name": "stderr"
        },
        {
          "output_type": "execute_result",
          "data": {
            "text/plain": [
              "LogisticRegression(C=1.0, class_weight=None, dual=False, fit_intercept=True,\n",
              "                   intercept_scaling=1, l1_ratio=None, max_iter=100,\n",
              "                   multi_class='auto', n_jobs=None, penalty='l2',\n",
              "                   random_state=None, solver='lbfgs', tol=0.0001, verbose=0,\n",
              "                   warm_start=False)"
            ]
          },
          "metadata": {
            "tags": []
          },
          "execution_count": 21
        }
      ]
    },
    {
      "cell_type": "code",
      "metadata": {
        "id": "oUnzsr5Bk4Cu"
      },
      "source": [
        "prediction =log.predict(x_test)"
      ],
      "execution_count": 25,
      "outputs": []
    },
    {
      "cell_type": "code",
      "metadata": {
        "id": "nc0KHrPjk4Cu"
      },
      "source": [
        "from sklearn.metrics import f1_score"
      ],
      "execution_count": 26,
      "outputs": []
    },
    {
      "cell_type": "code",
      "metadata": {
        "colab": {
          "base_uri": "https://localhost:8080/"
        },
        "id": "TqlU7ywWk4Cu",
        "outputId": "b5870408-317a-4783-e64c-c802212474ee"
      },
      "source": [
        "f1_score(y_test,prediction)"
      ],
      "execution_count": 27,
      "outputs": [
        {
          "output_type": "execute_result",
          "data": {
            "text/plain": [
              "0.8617886178861789"
            ]
          },
          "metadata": {
            "tags": []
          },
          "execution_count": 27
        }
      ]
    },
    {
      "cell_type": "markdown",
      "metadata": {
        "id": "zQHfZU-ck4Cu"
      },
      "source": [
        "#### Naive Bayes"
      ]
    },
    {
      "cell_type": "code",
      "metadata": {
        "id": "N8Wkmbr0k4Cv"
      },
      "source": [
        "from sklearn.naive_bayes import GaussianNB"
      ],
      "execution_count": 33,
      "outputs": []
    },
    {
      "cell_type": "code",
      "metadata": {
        "id": "99vfbmKAk4Cv"
      },
      "source": [
        "nb = GaussianNB()"
      ],
      "execution_count": 34,
      "outputs": []
    },
    {
      "cell_type": "code",
      "metadata": {
        "colab": {
          "base_uri": "https://localhost:8080/"
        },
        "id": "dWBVfj9dk4Cv",
        "outputId": "7d915f82-14ed-4a40-b9ed-4ec65fd50e8a"
      },
      "source": [
        "nb.fit(x_train,y_train)"
      ],
      "execution_count": 35,
      "outputs": [
        {
          "output_type": "execute_result",
          "data": {
            "text/plain": [
              "GaussianNB(priors=None, var_smoothing=1e-09)"
            ]
          },
          "metadata": {
            "tags": []
          },
          "execution_count": 35
        }
      ]
    },
    {
      "cell_type": "code",
      "metadata": {
        "id": "F88Briimk4Cw"
      },
      "source": [
        "prediction = nb.predict(x_test)"
      ],
      "execution_count": 36,
      "outputs": []
    },
    {
      "cell_type": "code",
      "metadata": {
        "colab": {
          "base_uri": "https://localhost:8080/"
        },
        "id": "40KnZWEmk4Cw",
        "outputId": "1429bbfb-aed5-493a-9bf4-afc731c58976"
      },
      "source": [
        "f1_score(y_test,prediction)"
      ],
      "execution_count": 32,
      "outputs": [
        {
          "output_type": "execute_result",
          "data": {
            "text/plain": [
              "0.5"
            ]
          },
          "metadata": {
            "tags": []
          },
          "execution_count": 32
        }
      ]
    },
    {
      "cell_type": "markdown",
      "metadata": {
        "id": "IrkUff8rk4Cw"
      },
      "source": [
        "#### Random Forest"
      ]
    },
    {
      "cell_type": "code",
      "metadata": {
        "id": "Pzg2-9V_k4Cw"
      },
      "source": [
        "from sklearn.ensemble import RandomForestClassifier"
      ],
      "execution_count": 37,
      "outputs": []
    },
    {
      "cell_type": "code",
      "metadata": {
        "id": "FtuhsMukk4Cx"
      },
      "source": [
        "rfc = RandomForestClassifier(n_estimators=15)  #n_estimators is model secting manually"
      ],
      "execution_count": 38,
      "outputs": []
    },
    {
      "cell_type": "code",
      "metadata": {
        "colab": {
          "base_uri": "https://localhost:8080/"
        },
        "id": "n6cV0sNAk4Cx",
        "outputId": "14f132d1-b7d6-4fa2-f7b4-5c35486b565b"
      },
      "source": [
        "rfc.fit(x_train,y_train)"
      ],
      "execution_count": 39,
      "outputs": [
        {
          "output_type": "execute_result",
          "data": {
            "text/plain": [
              "RandomForestClassifier(bootstrap=True, ccp_alpha=0.0, class_weight=None,\n",
              "                       criterion='gini', max_depth=None, max_features='auto',\n",
              "                       max_leaf_nodes=None, max_samples=None,\n",
              "                       min_impurity_decrease=0.0, min_impurity_split=None,\n",
              "                       min_samples_leaf=1, min_samples_split=2,\n",
              "                       min_weight_fraction_leaf=0.0, n_estimators=15,\n",
              "                       n_jobs=None, oob_score=False, random_state=None,\n",
              "                       verbose=0, warm_start=False)"
            ]
          },
          "metadata": {
            "tags": []
          },
          "execution_count": 39
        }
      ]
    },
    {
      "cell_type": "code",
      "metadata": {
        "id": "aXisG-rlk4Cy"
      },
      "source": [
        "prediction = rfc.predict(x_test)"
      ],
      "execution_count": 40,
      "outputs": []
    },
    {
      "cell_type": "code",
      "metadata": {
        "colab": {
          "base_uri": "https://localhost:8080/"
        },
        "id": "x-hNK04Uk4Cy",
        "outputId": "6900d3a1-18fd-4cee-dd85-0089f2ee5c93"
      },
      "source": [
        "f1_score(y_test,prediction)"
      ],
      "execution_count": 41,
      "outputs": [
        {
          "output_type": "execute_result",
          "data": {
            "text/plain": [
              "0.7853881278538812"
            ]
          },
          "metadata": {
            "tags": []
          },
          "execution_count": 41
        }
      ]
    },
    {
      "cell_type": "markdown",
      "metadata": {
        "id": "F2SBv56Ik4Cy"
      },
      "source": [
        "#### Decision Tree"
      ]
    },
    {
      "cell_type": "code",
      "metadata": {
        "id": "kSgqF-ctk4Cz"
      },
      "source": [
        "from sklearn.tree import DecisionTreeClassifier"
      ],
      "execution_count": 42,
      "outputs": []
    },
    {
      "cell_type": "code",
      "metadata": {
        "id": "LnkEYoNTk4Cz"
      },
      "source": [
        "dtree= DecisionTreeClassifier(max_depth=10)"
      ],
      "execution_count": 43,
      "outputs": []
    },
    {
      "cell_type": "code",
      "metadata": {
        "colab": {
          "base_uri": "https://localhost:8080/"
        },
        "id": "ZCSQrh4Sk4Cz",
        "outputId": "9f8ccf0f-ed4a-45fe-b5ed-c083fe12c16b"
      },
      "source": [
        "dtree.fit(x_train,y_train)"
      ],
      "execution_count": 44,
      "outputs": [
        {
          "output_type": "execute_result",
          "data": {
            "text/plain": [
              "DecisionTreeClassifier(ccp_alpha=0.0, class_weight=None, criterion='gini',\n",
              "                       max_depth=10, max_features=None, max_leaf_nodes=None,\n",
              "                       min_impurity_decrease=0.0, min_impurity_split=None,\n",
              "                       min_samples_leaf=1, min_samples_split=2,\n",
              "                       min_weight_fraction_leaf=0.0, presort='deprecated',\n",
              "                       random_state=None, splitter='best')"
            ]
          },
          "metadata": {
            "tags": []
          },
          "execution_count": 44
        }
      ]
    },
    {
      "cell_type": "code",
      "metadata": {
        "id": "_gzl5Crpk4Cz"
      },
      "source": [
        "prediction=dtree.predict(x_test)"
      ],
      "execution_count": 45,
      "outputs": []
    },
    {
      "cell_type": "code",
      "metadata": {
        "colab": {
          "base_uri": "https://localhost:8080/"
        },
        "id": "OapzSudbk4C0",
        "outputId": "a8b3eaac-1b68-4f8c-a9fe-52a754df4992"
      },
      "source": [
        "f1_score(y_test,prediction)"
      ],
      "execution_count": 46,
      "outputs": [
        {
          "output_type": "execute_result",
          "data": {
            "text/plain": [
              "0.8"
            ]
          },
          "metadata": {
            "tags": []
          },
          "execution_count": 46
        }
      ]
    },
    {
      "cell_type": "markdown",
      "metadata": {
        "id": "uFeslsH-k4C0"
      },
      "source": [
        "Plot Tree"
      ]
    },
    {
      "cell_type": "code",
      "metadata": {
        "id": "D6a_uzJQk4C0"
      },
      "source": [
        "from sklearn import tree"
      ],
      "execution_count": 47,
      "outputs": []
    },
    {
      "cell_type": "code",
      "metadata": {
        "colab": {
          "base_uri": "https://localhost:8080/",
          "height": 1000
        },
        "id": "OURT53Z1k4C0",
        "outputId": "2e0a0057-b299-461b-e3f5-0fdc91ec1750"
      },
      "source": [
        "tree.plot_tree(dtree)"
      ],
      "execution_count": 48,
      "outputs": [
        {
          "output_type": "execute_result",
          "data": {
            "text/plain": [
              "[Text(224.18659539473686, 207.55636363636364, 'X[2] <= 1.65\\ngini = 0.416\\nsamples = 437\\nvalue = [308, 129]'),\n",
              " Text(169.74029605263158, 187.7890909090909, 'X[5] <= 36.5\\ngini = 0.483\\nsamples = 270\\nvalue = [160, 110]'),\n",
              " Text(130.23059210526316, 168.0218181818182, 'X[1] <= 71.0\\ngini = 0.5\\nsamples = 184\\nvalue = [94, 90]'),\n",
              " Text(110.68223684210527, 148.25454545454545, 'X[6] <= 57.5\\ngini = 0.5\\nsamples = 175\\nvalue = [86, 89]'),\n",
              " Text(84.80131578947369, 128.48727272727274, 'X[7] <= 6.45\\ngini = 0.499\\nsamples = 165\\nvalue = [78, 87]'),\n",
              " Text(46.25526315789474, 108.72, 'X[4] <= 113.0\\ngini = 0.471\\nsamples = 71\\nvalue = [27, 44]'),\n",
              " Text(41.85, 88.95272727272729, 'gini = 0.0\\nsamples = 3\\nvalue = [3, 0]'),\n",
              " Text(50.660526315789475, 88.95272727272729, 'X[8] <= 3.15\\ngini = 0.457\\nsamples = 68\\nvalue = [24, 44]'),\n",
              " Text(35.242105263157896, 69.18545454545455, 'X[9] <= 0.955\\ngini = 0.484\\nsamples = 56\\nvalue = [23, 33]'),\n",
              " Text(17.621052631578948, 49.418181818181836, 'X[4] <= 191.0\\ngini = 0.408\\nsamples = 35\\nvalue = [10, 25]'),\n",
              " Text(8.810526315789474, 29.650909090909096, 'X[1] <= 51.5\\ngini = 0.488\\nsamples = 19\\nvalue = [8, 11]'),\n",
              " Text(4.405263157894737, 9.883636363636384, 'gini = 0.391\\nsamples = 15\\nvalue = [4, 11]'),\n",
              " Text(13.215789473684211, 9.883636363636384, 'gini = 0.0\\nsamples = 4\\nvalue = [4, 0]'),\n",
              " Text(26.431578947368422, 29.650909090909096, 'X[7] <= 6.05\\ngini = 0.219\\nsamples = 16\\nvalue = [2, 14]'),\n",
              " Text(22.026315789473685, 9.883636363636384, 'gini = 0.0\\nsamples = 11\\nvalue = [0, 11]'),\n",
              " Text(30.83684210526316, 9.883636363636384, 'gini = 0.48\\nsamples = 5\\nvalue = [2, 3]'),\n",
              " Text(52.863157894736844, 49.418181818181836, 'X[5] <= 19.5\\ngini = 0.472\\nsamples = 21\\nvalue = [13, 8]'),\n",
              " Text(44.05263157894737, 29.650909090909096, 'X[7] <= 4.85\\ngini = 0.408\\nsamples = 7\\nvalue = [2, 5]'),\n",
              " Text(39.64736842105263, 9.883636363636384, 'gini = 0.0\\nsamples = 1\\nvalue = [1, 0]'),\n",
              " Text(48.45789473684211, 9.883636363636384, 'gini = 0.278\\nsamples = 6\\nvalue = [1, 5]'),\n",
              " Text(61.67368421052632, 29.650909090909096, 'X[7] <= 5.85\\ngini = 0.337\\nsamples = 14\\nvalue = [11, 3]'),\n",
              " Text(57.26842105263158, 9.883636363636384, 'gini = 0.0\\nsamples = 8\\nvalue = [8, 0]'),\n",
              " Text(66.07894736842105, 9.883636363636384, 'gini = 0.5\\nsamples = 6\\nvalue = [3, 3]'),\n",
              " Text(66.07894736842105, 69.18545454545455, 'X[6] <= 15.5\\ngini = 0.153\\nsamples = 12\\nvalue = [1, 11]'),\n",
              " Text(61.67368421052632, 49.418181818181836, 'gini = 0.0\\nsamples = 1\\nvalue = [1, 0]'),\n",
              " Text(70.48421052631579, 49.418181818181836, 'gini = 0.0\\nsamples = 11\\nvalue = [0, 11]'),\n",
              " Text(123.34736842105264, 108.72, 'X[5] <= 25.5\\ngini = 0.496\\nsamples = 94\\nvalue = [51, 43]'),\n",
              " Text(94.71315789473684, 88.95272727272729, 'X[1] <= 30.5\\ngini = 0.458\\nsamples = 59\\nvalue = [38, 21]'),\n",
              " Text(83.7, 69.18545454545455, 'X[3] <= 0.15\\ngini = 0.475\\nsamples = 18\\nvalue = [7, 11]'),\n",
              " Text(79.29473684210527, 49.418181818181836, 'gini = 0.0\\nsamples = 2\\nvalue = [2, 0]'),\n",
              " Text(88.10526315789474, 49.418181818181836, 'X[4] <= 313.0\\ngini = 0.43\\nsamples = 16\\nvalue = [5, 11]'),\n",
              " Text(83.7, 29.650909090909096, 'X[6] <= 13.5\\ngini = 0.337\\nsamples = 14\\nvalue = [3, 11]'),\n",
              " Text(79.29473684210527, 9.883636363636384, 'gini = 0.0\\nsamples = 2\\nvalue = [2, 0]'),\n",
              " Text(88.10526315789474, 9.883636363636384, 'gini = 0.153\\nsamples = 12\\nvalue = [1, 11]'),\n",
              " Text(92.51052631578948, 29.650909090909096, 'gini = 0.0\\nsamples = 2\\nvalue = [2, 0]'),\n",
              " Text(105.72631578947369, 69.18545454545455, 'X[5] <= 11.0\\ngini = 0.369\\nsamples = 41\\nvalue = [31, 10]'),\n",
              " Text(101.32105263157895, 49.418181818181836, 'gini = 0.0\\nsamples = 2\\nvalue = [0, 2]'),\n",
              " Text(110.13157894736842, 49.418181818181836, 'X[1] <= 61.0\\ngini = 0.326\\nsamples = 39\\nvalue = [31, 8]'),\n",
              " Text(101.32105263157895, 29.650909090909096, 'X[4] <= 114.5\\ngini = 0.251\\nsamples = 34\\nvalue = [29, 5]'),\n",
              " Text(96.91578947368421, 9.883636363636384, 'gini = 0.0\\nsamples = 1\\nvalue = [0, 1]'),\n",
              " Text(105.72631578947369, 9.883636363636384, 'gini = 0.213\\nsamples = 33\\nvalue = [29, 4]'),\n",
              " Text(118.9421052631579, 29.650909090909096, 'X[5] <= 20.5\\ngini = 0.48\\nsamples = 5\\nvalue = [2, 3]'),\n",
              " Text(114.53684210526316, 9.883636363636384, 'gini = 0.444\\nsamples = 3\\nvalue = [2, 1]'),\n",
              " Text(123.34736842105264, 9.883636363636384, 'gini = 0.0\\nsamples = 2\\nvalue = [0, 2]'),\n",
              " Text(151.98157894736843, 88.95272727272729, 'X[3] <= 0.25\\ngini = 0.467\\nsamples = 35\\nvalue = [13, 22]'),\n",
              " Text(140.96842105263158, 69.18545454545455, 'X[5] <= 33.5\\ngini = 0.408\\nsamples = 28\\nvalue = [8, 20]'),\n",
              " Text(132.1578947368421, 49.418181818181836, 'X[9] <= 0.7\\ngini = 0.308\\nsamples = 21\\nvalue = [4, 17]'),\n",
              " Text(127.75263157894737, 29.650909090909096, 'gini = 0.0\\nsamples = 1\\nvalue = [1, 0]'),\n",
              " Text(136.56315789473683, 29.650909090909096, 'X[0] <= 0.5\\ngini = 0.255\\nsamples = 20\\nvalue = [3, 17]'),\n",
              " Text(132.1578947368421, 9.883636363636384, 'gini = 0.444\\nsamples = 6\\nvalue = [2, 4]'),\n",
              " Text(140.96842105263158, 9.883636363636384, 'gini = 0.133\\nsamples = 14\\nvalue = [1, 13]'),\n",
              " Text(149.77894736842106, 49.418181818181836, 'X[4] <= 172.5\\ngini = 0.49\\nsamples = 7\\nvalue = [4, 3]'),\n",
              " Text(145.37368421052633, 29.650909090909096, 'gini = 0.0\\nsamples = 3\\nvalue = [3, 0]'),\n",
              " Text(154.18421052631578, 29.650909090909096, 'X[9] <= 1.475\\ngini = 0.375\\nsamples = 4\\nvalue = [1, 3]'),\n",
              " Text(149.77894736842106, 9.883636363636384, 'gini = 0.0\\nsamples = 3\\nvalue = [0, 3]'),\n",
              " Text(158.58947368421053, 9.883636363636384, 'gini = 0.0\\nsamples = 1\\nvalue = [1, 0]'),\n",
              " Text(162.99473684210528, 69.18545454545455, 'X[1] <= 51.5\\ngini = 0.408\\nsamples = 7\\nvalue = [5, 2]'),\n",
              " Text(158.58947368421053, 49.418181818181836, 'gini = 0.0\\nsamples = 5\\nvalue = [5, 0]'),\n",
              " Text(167.4, 49.418181818181836, 'gini = 0.0\\nsamples = 2\\nvalue = [0, 2]'),\n",
              " Text(136.56315789473683, 128.48727272727274, 'X[5] <= 21.5\\ngini = 0.32\\nsamples = 10\\nvalue = [8, 2]'),\n",
              " Text(132.1578947368421, 108.72, 'gini = 0.0\\nsamples = 2\\nvalue = [0, 2]'),\n",
              " Text(140.96842105263158, 108.72, 'gini = 0.0\\nsamples = 8\\nvalue = [8, 0]'),\n",
              " Text(149.77894736842106, 148.25454545454545, 'X[5] <= 14.5\\ngini = 0.198\\nsamples = 9\\nvalue = [8, 1]'),\n",
              " Text(145.37368421052633, 128.48727272727274, 'gini = 0.0\\nsamples = 1\\nvalue = [0, 1]'),\n",
              " Text(154.18421052631578, 128.48727272727274, 'gini = 0.0\\nsamples = 8\\nvalue = [8, 0]'),\n",
              " Text(209.25, 168.0218181818182, 'X[9] <= 1.7\\ngini = 0.357\\nsamples = 86\\nvalue = [66, 20]'),\n",
              " Text(204.84473684210528, 148.25454545454545, 'X[4] <= 184.0\\ngini = 0.326\\nsamples = 83\\nvalue = [66, 17]'),\n",
              " Text(193.83157894736843, 128.48727272727274, 'X[4] <= 177.0\\ngini = 0.495\\nsamples = 20\\nvalue = [11, 9]'),\n",
              " Text(189.42631578947368, 108.72, 'X[1] <= 60.0\\ngini = 0.43\\nsamples = 16\\nvalue = [11, 5]'),\n",
              " Text(185.02105263157895, 88.95272727272729, 'X[0] <= 0.5\\ngini = 0.26\\nsamples = 13\\nvalue = [11, 2]'),\n",
              " Text(180.61578947368423, 69.18545454545455, 'X[4] <= 164.5\\ngini = 0.444\\nsamples = 3\\nvalue = [1, 2]'),\n",
              " Text(176.21052631578948, 49.418181818181836, 'gini = 0.0\\nsamples = 2\\nvalue = [0, 2]'),\n",
              " Text(185.02105263157895, 49.418181818181836, 'gini = 0.0\\nsamples = 1\\nvalue = [1, 0]'),\n",
              " Text(189.42631578947368, 69.18545454545455, 'gini = 0.0\\nsamples = 10\\nvalue = [10, 0]'),\n",
              " Text(193.83157894736843, 88.95272727272729, 'gini = 0.0\\nsamples = 3\\nvalue = [0, 3]'),\n",
              " Text(198.23684210526318, 108.72, 'gini = 0.0\\nsamples = 4\\nvalue = [0, 4]'),\n",
              " Text(215.85789473684213, 128.48727272727274, 'X[2] <= 1.45\\ngini = 0.222\\nsamples = 63\\nvalue = [55, 8]'),\n",
              " Text(207.04736842105262, 108.72, 'X[1] <= 8.0\\ngini = 0.16\\nsamples = 57\\nvalue = [52, 5]'),\n",
              " Text(202.6421052631579, 88.95272727272729, 'gini = 0.0\\nsamples = 1\\nvalue = [0, 1]'),\n",
              " Text(211.45263157894738, 88.95272727272729, 'X[7] <= 6.95\\ngini = 0.133\\nsamples = 56\\nvalue = [52, 4]'),\n",
              " Text(207.04736842105262, 69.18545454545455, 'gini = 0.0\\nsamples = 38\\nvalue = [38, 0]'),\n",
              " Text(215.85789473684213, 69.18545454545455, 'X[1] <= 59.5\\ngini = 0.346\\nsamples = 18\\nvalue = [14, 4]'),\n",
              " Text(211.45263157894738, 49.418181818181836, 'X[4] <= 295.0\\ngini = 0.219\\nsamples = 16\\nvalue = [14, 2]'),\n",
              " Text(207.04736842105262, 29.650909090909096, 'gini = 0.0\\nsamples = 10\\nvalue = [10, 0]'),\n",
              " Text(215.85789473684213, 29.650909090909096, 'X[4] <= 442.5\\ngini = 0.444\\nsamples = 6\\nvalue = [4, 2]'),\n",
              " Text(211.45263157894738, 9.883636363636384, 'gini = 0.0\\nsamples = 2\\nvalue = [0, 2]'),\n",
              " Text(220.26315789473685, 9.883636363636384, 'gini = 0.0\\nsamples = 4\\nvalue = [4, 0]'),\n",
              " Text(220.26315789473685, 49.418181818181836, 'gini = 0.0\\nsamples = 2\\nvalue = [0, 2]'),\n",
              " Text(224.66842105263157, 108.72, 'X[6] <= 108.0\\ngini = 0.5\\nsamples = 6\\nvalue = [3, 3]'),\n",
              " Text(220.26315789473685, 88.95272727272729, 'gini = 0.0\\nsamples = 3\\nvalue = [0, 3]'),\n",
              " Text(229.07368421052632, 88.95272727272729, 'gini = 0.0\\nsamples = 3\\nvalue = [3, 0]'),\n",
              " Text(213.65526315789475, 148.25454545454545, 'gini = 0.0\\nsamples = 3\\nvalue = [0, 3]'),\n",
              " Text(278.6328947368421, 187.7890909090909, 'X[1] <= 38.5\\ngini = 0.202\\nsamples = 167\\nvalue = [148, 19]'),\n",
              " Text(251.10000000000002, 168.0218181818182, 'X[3] <= 2.4\\ngini = 0.37\\nsamples = 49\\nvalue = [37, 12]'),\n",
              " Text(246.69473684210527, 148.25454545454545, 'X[4] <= 176.0\\ngini = 0.485\\nsamples = 29\\nvalue = [17, 12]'),\n",
              " Text(237.8842105263158, 128.48727272727274, 'X[9] <= 1.27\\ngini = 0.278\\nsamples = 6\\nvalue = [1, 5]'),\n",
              " Text(233.47894736842107, 108.72, 'gini = 0.0\\nsamples = 5\\nvalue = [0, 5]'),\n",
              " Text(242.28947368421052, 108.72, 'gini = 0.0\\nsamples = 1\\nvalue = [1, 0]'),\n",
              " Text(255.50526315789475, 128.48727272727274, 'X[0] <= 0.5\\ngini = 0.423\\nsamples = 23\\nvalue = [16, 7]'),\n",
              " Text(251.10000000000002, 108.72, 'gini = 0.0\\nsamples = 3\\nvalue = [0, 3]'),\n",
              " Text(259.91052631578947, 108.72, 'X[6] <= 20.0\\ngini = 0.32\\nsamples = 20\\nvalue = [16, 4]'),\n",
              " Text(255.50526315789475, 88.95272727272729, 'gini = 0.0\\nsamples = 1\\nvalue = [0, 1]'),\n",
              " Text(264.3157894736842, 88.95272727272729, 'X[1] <= 34.0\\ngini = 0.266\\nsamples = 19\\nvalue = [16, 3]'),\n",
              " Text(259.91052631578947, 69.18545454545455, 'gini = 0.0\\nsamples = 10\\nvalue = [10, 0]'),\n",
              " Text(268.72105263157897, 69.18545454545455, 'X[1] <= 35.5\\ngini = 0.444\\nsamples = 9\\nvalue = [6, 3]'),\n",
              " Text(264.3157894736842, 49.418181818181836, 'gini = 0.0\\nsamples = 2\\nvalue = [0, 2]'),\n",
              " Text(273.12631578947367, 49.418181818181836, 'X[4] <= 307.5\\ngini = 0.245\\nsamples = 7\\nvalue = [6, 1]'),\n",
              " Text(268.72105263157897, 29.650909090909096, 'gini = 0.0\\nsamples = 6\\nvalue = [6, 0]'),\n",
              " Text(277.5315789473684, 29.650909090909096, 'gini = 0.0\\nsamples = 1\\nvalue = [0, 1]'),\n",
              " Text(255.50526315789475, 148.25454545454545, 'gini = 0.0\\nsamples = 20\\nvalue = [20, 0]'),\n",
              " Text(306.16578947368424, 168.0218181818182, 'X[7] <= 3.95\\ngini = 0.112\\nsamples = 118\\nvalue = [111, 7]'),\n",
              " Text(295.15263157894736, 148.25454545454545, 'X[4] <= 209.5\\ngini = 0.444\\nsamples = 3\\nvalue = [1, 2]'),\n",
              " Text(290.74736842105267, 128.48727272727274, 'gini = 0.0\\nsamples = 2\\nvalue = [0, 2]'),\n",
              " Text(299.5578947368421, 128.48727272727274, 'gini = 0.0\\nsamples = 1\\nvalue = [1, 0]'),\n",
              " Text(317.17894736842106, 148.25454545454545, 'X[4] <= 1565.0\\ngini = 0.083\\nsamples = 115\\nvalue = [110, 5]'),\n",
              " Text(308.36842105263156, 128.48727272727274, 'X[7] <= 6.15\\ngini = 0.068\\nsamples = 113\\nvalue = [109, 4]'),\n",
              " Text(303.96315789473687, 108.72, 'X[8] <= 3.3\\ngini = 0.153\\nsamples = 48\\nvalue = [44, 4]'),\n",
              " Text(299.5578947368421, 88.95272727272729, 'X[7] <= 6.05\\ngini = 0.12\\nsamples = 47\\nvalue = [44, 3]'),\n",
              " Text(286.3421052631579, 69.18545454545455, 'X[5] <= 160.5\\ngini = 0.046\\nsamples = 42\\nvalue = [41, 1]'),\n",
              " Text(281.93684210526317, 49.418181818181836, 'gini = 0.0\\nsamples = 40\\nvalue = [40, 0]'),\n",
              " Text(290.74736842105267, 49.418181818181836, 'X[6] <= 617.5\\ngini = 0.5\\nsamples = 2\\nvalue = [1, 1]'),\n",
              " Text(286.3421052631579, 29.650909090909096, 'gini = 0.0\\nsamples = 1\\nvalue = [0, 1]'),\n",
              " Text(295.15263157894736, 29.650909090909096, 'gini = 0.0\\nsamples = 1\\nvalue = [1, 0]'),\n",
              " Text(312.7736842105263, 69.18545454545455, 'X[5] <= 45.5\\ngini = 0.48\\nsamples = 5\\nvalue = [3, 2]'),\n",
              " Text(308.36842105263156, 49.418181818181836, 'X[3] <= 6.1\\ngini = 0.444\\nsamples = 3\\nvalue = [1, 2]'),\n",
              " Text(303.96315789473687, 29.650909090909096, 'gini = 0.0\\nsamples = 2\\nvalue = [0, 2]'),\n",
              " Text(312.7736842105263, 29.650909090909096, 'gini = 0.0\\nsamples = 1\\nvalue = [1, 0]'),\n",
              " Text(317.17894736842106, 49.418181818181836, 'gini = 0.0\\nsamples = 2\\nvalue = [2, 0]'),\n",
              " Text(308.36842105263156, 88.95272727272729, 'gini = 0.0\\nsamples = 1\\nvalue = [0, 1]'),\n",
              " Text(312.7736842105263, 108.72, 'gini = 0.0\\nsamples = 65\\nvalue = [65, 0]'),\n",
              " Text(325.98947368421057, 128.48727272727274, 'X[3] <= 2.15\\ngini = 0.5\\nsamples = 2\\nvalue = [1, 1]'),\n",
              " Text(321.5842105263158, 108.72, 'gini = 0.0\\nsamples = 1\\nvalue = [1, 0]'),\n",
              " Text(330.39473684210526, 108.72, 'gini = 0.0\\nsamples = 1\\nvalue = [0, 1]')]"
            ]
          },
          "metadata": {
            "tags": []
          },
          "execution_count": 48
        },
        {
          "output_type": "display_data",
          "data": {
            "image/png": "[encoded data removed]",
            "text/plain": [
              "<Figure size 432x288 with 1 Axes>"
            ]
          },
          "metadata": {
            "tags": [],
            "needs_background": "light"
          }
        }
      ]
    },
    {
      "cell_type": "markdown",
      "metadata": {
        "id": "T8qDkg8Jk4C1"
      },
      "source": [
        "#### SVC Support Vector Machines"
      ]
    },
    {
      "cell_type": "code",
      "metadata": {
        "id": "YBgvGC5bk4C2"
      },
      "source": [
        "from sklearn.svm import SVC"
      ],
      "execution_count": 52,
      "outputs": []
    },
    {
      "cell_type": "code",
      "metadata": {
        "id": "7-FCv3PNk4C2"
      },
      "source": [
        "sm = SVC(kernel='rbf') "
      ],
      "execution_count": 53,
      "outputs": []
    },
    {
      "cell_type": "code",
      "metadata": {
        "colab": {
          "base_uri": "https://localhost:8080/"
        },
        "id": "iwfEo5vlk4C2",
        "outputId": "fbfe258b-8734-484d-8d2a-c06f99ab2272"
      },
      "source": [
        "sm.fit(x_train,y_train)"
      ],
      "execution_count": 54,
      "outputs": [
        {
          "output_type": "execute_result",
          "data": {
            "text/plain": [
              "SVC(C=1.0, break_ties=False, cache_size=200, class_weight=None, coef0=0.0,\n",
              "    decision_function_shape='ovr', degree=3, gamma='scale', kernel='rbf',\n",
              "    max_iter=-1, probability=False, random_state=None, shrinking=True,\n",
              "    tol=0.001, verbose=False)"
            ]
          },
          "metadata": {
            "tags": []
          },
          "execution_count": 54
        }
      ]
    },
    {
      "cell_type": "code",
      "metadata": {
        "id": "pCMQmYl7k4C3"
      },
      "source": [
        "prediction=sm.predict(x_test)"
      ],
      "execution_count": 55,
      "outputs": []
    },
    {
      "cell_type": "code",
      "metadata": {
        "id": "-NYxwJGvk4C3",
        "outputId": "23e14b92-eea5-4fd4-be08-67c163e3dbbe"
      },
      "source": [
        "f1_score(y_test,prediction)"
      ],
      "execution_count": null,
      "outputs": [
        {
          "output_type": "execute_result",
          "data": {
            "text/plain": [
              "0.8225806451612903"
            ]
          },
          "metadata": {
            "tags": []
          },
          "execution_count": 17
        }
      ]
    },
    {
      "cell_type": "markdown",
      "metadata": {
        "id": "MFC0gTG_k4C3"
      },
      "source": [
        "f1_score of\n",
        "\n",
        "Logistic Regression         0.861788\n",
        "Naive Bayes                 0.5\n",
        "Random Forest               0.785388\n",
        "Decision Tree               0.8\n",
        "SVC Support Vector Machines 0.822580"
      ]
    },
    {
      "cell_type": "markdown",
      "metadata": {
        "id": "MoxDtb_dk4C3"
      },
      "source": [
        "Logistic Regression is best for this classification followed by SVM \n"
      ]
    }
  ]
}